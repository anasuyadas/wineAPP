{
 "metadata": {
  "name": "",
  "signature": "sha256:b0bd02fc311d1a07738bbe9fd359b7b25cc15ae1f0e844ca22e94e848b5e80cf"
 },
 "nbformat": 3,
 "nbformat_minor": 0,
 "worksheets": [
  {
   "cells": [
    {
     "cell_type": "code",
     "collapsed": false,
     "input": [
      "import os\n",
      "import re\n",
      "import urllib2\n",
      "from zipfile import ZipFile\n",
      "import csv\n",
      "\n",
      "\n",
      "import pandas as pd\n",
      "import matplotlib.pyplot as plt\n",
      "from pandas import DataFrame,Series\n",
      "import numpy as np\n",
      "import random\n",
      "\n",
      "import re\n",
      "from bs4 import BeautifulSoup"
     ],
     "language": "python",
     "metadata": {},
     "outputs": [],
     "prompt_number": 14
    },
    {
     "cell_type": "code",
     "collapsed": false,
     "input": [
      "def getReviewURL(review):\n",
      "# function to get all the urls from the csv files \n",
      "    url=[]\n",
      "    for x in review:\n",
      "        if -1<x.rfind('('):\n",
      "            urlStart= x.rfind('(')+1\n",
      "            urlEnd=x.find(')',urlStart)\n",
      "            url.append(x[urlStart:urlEnd])\n",
      "        else: \n",
      "             url.append(x)\n",
      "    return url"
     ],
     "language": "python",
     "metadata": {},
     "outputs": [],
     "prompt_number": 48
    },
    {
     "cell_type": "code",
     "collapsed": false,
     "input": [
      "def getReviews(url):\n",
      "    RSreviews=[]\n",
      "    for x in url: \n",
      "        try:\n",
      "            html = urllib2.urlopen(x)\n",
      "            soup = BeautifulSoup(html)\n",
      "            reviewTags=soup.find(attrs={'class' : 'post-body entry-content'})\n",
      "            reviewText=reviewTags.text\n",
      "            endReview=reviewText.rfind('Bulk Buy')\n",
      "            textOnly=reviewText[:endReview-1]\n",
      "            textOnly=textOnly.replace('\\n',' ')\n",
      "            textOnly=textOnly.replace('\\'','')\n",
      "            RSreviews.append(textOnly)\n",
      "        except :\n",
      "            RSreviews.append('none')\n",
      "\n",
      "    return RSreviews"
     ],
     "language": "python",
     "metadata": {},
     "outputs": [],
     "prompt_number": 46
    },
    {
     "cell_type": "code",
     "collapsed": false,
     "input": [
      "def removeStopWords(reviews):\n",
      "    reviewNoStops=[]\n",
      "    allWordsAllRevs=[]\n",
      "    noStopLine=[]\n",
      "    for line in reviews:\n",
      "        line=line.lower()\n",
      "        print line\n",
      "        line=re.sub(r'[\\W_]+', ' ', line)\n",
      "        line=re.sub(r'[\\d_]+', ' ', line)\n",
      "        singleLine=[]\n",
      "        for w in line.split():\n",
      "            if w.lower() not in stops and 3<len(w)<10:\n",
      "                w=w.encode('utf-8')\n",
      "                singleLine.append(w)\n",
      "                noStopLine.append(w)\n",
      "        \n",
      "        allWordsAllRevs.append([singleLine])\n",
      "        reviewNoStops.append([singleLine])\n",
      "    \n",
      "    reviewNoStops=np.unique(noStopLine,False,False).tolist()\n",
      "    #noStopLine=[x.encode('utf-8') for x in noStopLine]\n",
      "    \n",
      "    return noStopLine,reviewNoStops,allWordsAllRevs"
     ],
     "language": "python",
     "metadata": {},
     "outputs": [],
     "prompt_number": 134
    },
    {
     "cell_type": "code",
     "collapsed": false,
     "input": [
      "def "
     ],
     "language": "python",
     "metadata": {},
     "outputs": []
    },
    {
     "cell_type": "code",
     "collapsed": false,
     "input": [
      "def getNameVintage(wine):\n",
      "    name=[re.split(' ',w,1)for w in wine]"
     ],
     "language": "python",
     "metadata": {},
     "outputs": []
    },
    {
     "cell_type": "code",
     "collapsed": false,
     "input": [
      "#read in csv file \n",
      "reverseSnob= pd.read_csv('ReverseWineSnob.com_Wine_Ranking.csv')\n",
      "allRevs= pd.read_csv('RSreviews2.csv')"
     ],
     "language": "python",
     "metadata": {},
     "outputs": [],
     "prompt_number": 6
    },
    {
     "cell_type": "code",
     "collapsed": false,
     "input": [
      "url=getReviewURL(reverseSnob['Review'])"
     ],
     "language": "python",
     "metadata": {},
     "outputs": [],
     "prompt_number": 49
    },
    {
     "cell_type": "code",
     "collapsed": false,
     "input": [
      "# get all reviews... DO NOT RUN AGAIN\n",
      "RSreviews=getReviews(url)"
     ],
     "language": "python",
     "metadata": {},
     "outputs": [],
     "prompt_number": 123
    },
    {
     "cell_type": "code",
     "collapsed": false,
     "input": [
      "RSreviewsTextOnly=[re.split('Overall Rating',line)[0] for line in RSreviews]\n",
      "allRevs.to_csv('RSreviews2.csv',encoding='utf-8')"
     ],
     "language": "python",
     "metadata": {},
     "outputs": [],
     "prompt_number": 409
    },
    {
     "cell_type": "code",
     "collapsed": false,
     "input": [
      "# see how many wines did not have reviews\n",
      "emptyRevs=[rev for rev in RSreviews if re.search('none',rev)]"
     ],
     "language": "python",
     "metadata": {},
     "outputs": [],
     "prompt_number": 124
    },
    {
     "cell_type": "code",
     "collapsed": false,
     "input": [
      "print \"Reviews for {0} wines were not found\".format(len(emptyRevs))"
     ],
     "language": "python",
     "metadata": {},
     "outputs": [
      {
       "output_type": "stream",
       "stream": "stdout",
       "text": [
        "Reviews for 9 wines were not found\n"
       ]
      }
     ],
     "prompt_number": 125
    },
    {
     "cell_type": "code",
     "collapsed": false,
     "input": [
      "reverseSnob= pd.read_csv('ReverseWineSnob.com_Wine_Ranking.csv')\n",
      "\n",
      "name=[re.split(' ',w,1)for w in reverseSnob['Wine']]\n",
      "wineName=[n[1] for n in name]\n",
      "wineVintage=[n[0] for n in name]\n",
      "reverseSnob['wineName']=wineName\n",
      "reverseSnob['wineVintage']=wineVintage\n",
      "reverseSnob['url']=url\n",
      "reverseSnob['TypeClassifier']=reverseSnob['Type']\n",
      "\n",
      "replaceWhites=['Ros\u00e9','Sparkling','Cider Wine','Box']\n",
      "for w in replaceWhites:\n",
      "    reverseSnob['TypeClassifier']=[type.replace(w,'White') for  type in reverseSnob['TypeClassifier']]\n",
      "    \n",
      "    \n",
      "reverseSnob['TypeClassifier']=[type.replace('Dessert','Red') for  type in reverseSnob['TypeClassifier']]\n",
      "\n",
      "\n",
      "reverseSnobPad=reverseSnob.fillna(value=0)\n",
      "\n",
      "reverseSnobPad.drop(['Review','Wine','wineName','url'],axis=1, inplace=True)\n",
      "reverseSnobLongText=reverseSnob"
     ],
     "language": "python",
     "metadata": {},
     "outputs": [],
     "prompt_number": 114
    },
    {
     "cell_type": "code",
     "collapsed": false,
     "input": [
      "con = mdb.connect('localhost', 'root', 'cortex', 'cellarTracker') #host, user, password, #database\n",
      "cur = con.cursor()\n",
      "cur.execute(\"DROP TABLE IF EXISTS reverseSnobTable\")\n",
      "reverseSnobPad.to_sql(con=con,name='reverseSnobTable', flavor='mysql',if_exists='append',index_label='indx')"
     ],
     "language": "python",
     "metadata": {},
     "outputs": [],
     "prompt_number": 115
    },
    {
     "cell_type": "code",
     "collapsed": false,
     "input": [
      "con = mdb.connect('localhost', 'root', 'cortex', 'cellarTracker') #host, user, password, #database\n",
      "cur = con.cursor()\n",
      "cur.execute(\"ALTER TABLE reverseSnobTable ADD (Review MEDIUMTEXT,Wine MEDIUMTEXT,wineName MEDIUMTEXT,url TINYTEXT)\")\n",
      "\n",
      "\n",
      "#cur.execute(\"CREATE TABLE reverseSnobTable\")\n",
      "#print reverseSnob\n",
      "\n",
      "                      "
     ],
     "language": "python",
     "metadata": {},
     "outputs": [
      {
       "metadata": {},
       "output_type": "pyout",
       "prompt_number": 97,
       "text": [
        "0"
       ]
      }
     ],
     "prompt_number": 97
    },
    {
     "cell_type": "code",
     "collapsed": false,
     "input": [
      "#reverseSnob[['Review','Wine','wineName','url']].to_sql(con=con,name='reverseSnobTable', flavor='mysql',if_exists='append',index_label='indx')\n",
      "\n"
     ],
     "language": "python",
     "metadata": {},
     "outputs": [],
     "prompt_number": 112
    },
    {
     "cell_type": "code",
     "collapsed": false,
     "input": [
      "with con:\n",
      "   cur.execute(\"SELECT * reverseSnobTable\")\n",
      "   rows = cur.fetchall()\n",
      "   print len(rows)"
     ],
     "language": "python",
     "metadata": {},
     "outputs": []
    },
    {
     "cell_type": "code",
     "collapsed": false,
     "input": [
      "allRevs[:2]"
     ],
     "language": "python",
     "metadata": {},
     "outputs": [
      {
       "html": [
        "<div style=\"max-height:1000px;max-width:1500px;overflow:auto;\">\n",
        "<table border=\"1\" class=\"dataframe\">\n",
        "  <thead>\n",
        "    <tr style=\"text-align: right;\">\n",
        "      <th></th>\n",
        "      <th>Unnamed: 0</th>\n",
        "      <th>0</th>\n",
        "    </tr>\n",
        "  </thead>\n",
        "  <tbody>\n",
        "    <tr>\n",
        "      <th>0</th>\n",
        "      <td> 0</td>\n",
        "      <td>  [Note 3/12/2011: Do not confuse the 2008 Tren...</td>\n",
        "    </tr>\n",
        "    <tr>\n",
        "      <th>1</th>\n",
        "      <td> 1</td>\n",
        "      <td>  [EDIT: Check out the review of the latest vin...</td>\n",
        "    </tr>\n",
        "  </tbody>\n",
        "</table>\n",
        "</div>"
       ],
       "metadata": {},
       "output_type": "pyout",
       "prompt_number": 118,
       "text": [
        "   Unnamed: 0                                                  0\n",
        "0           0   [Note 3/12/2011: Do not confuse the 2008 Tren...\n",
        "1           1   [EDIT: Check out the review of the latest vin..."
       ]
      }
     ],
     "prompt_number": 118
    },
    {
     "cell_type": "code",
     "collapsed": false,
     "input": [
      "\n"
     ],
     "language": "python",
     "metadata": {},
     "outputs": [],
     "prompt_number": 113
    },
    {
     "cell_type": "code",
     "collapsed": false,
     "input": [],
     "language": "python",
     "metadata": {},
     "outputs": [],
     "prompt_number": 265
    },
    {
     "cell_type": "code",
     "collapsed": false,
     "input": [],
     "language": "python",
     "metadata": {},
     "outputs": [],
     "prompt_number": 269
    },
    {
     "cell_type": "code",
     "collapsed": false,
     "input": [
      "wineNames=np.unique(reverseSnob['Type'])"
     ],
     "language": "python",
     "metadata": {},
     "outputs": [],
     "prompt_number": 329
    },
    {
     "cell_type": "code",
     "collapsed": false,
     "input": [
      "cx=reverseSnob.groupby('Type').count()"
     ],
     "language": "python",
     "metadata": {},
     "outputs": [],
     "prompt_number": 330
    },
    {
     "cell_type": "code",
     "collapsed": false,
     "input": [
      "bar_width = 0.8\n",
      "x=range(0,len(cx['Wine']))\n",
      "plt.bar(x,cx['Wine'],bar_width,color='#990000')\n",
      "x=np.add(x,0.5)\n",
      "plt.ylabel('Number of wines')\n",
      "plt.xticks(x, ['Box', 'Cider', 'Dessert', 'Port', 'Red', 'Rose',\n",
      "       'Sparkling', 'White'])"
     ],
     "language": "python",
     "metadata": {},
     "outputs": [
      {
       "metadata": {},
       "output_type": "pyout",
       "prompt_number": 425,
       "text": [
        "([<matplotlib.axis.XTick at 0x1b0924310>,\n",
        "  <matplotlib.axis.XTick at 0x1b08d4fd0>,\n",
        "  <matplotlib.axis.XTick at 0x1b8c25c50>,\n",
        "  <matplotlib.axis.XTick at 0x1b09de810>,\n",
        "  <matplotlib.axis.XTick at 0x1b09def50>,\n",
        "  <matplotlib.axis.XTick at 0x1b09e96d0>,\n",
        "  <matplotlib.axis.XTick at 0x1b09e9e10>,\n",
        "  <matplotlib.axis.XTick at 0x1b09f5590>],\n",
        " <a list of 8 Text xticklabel objects>)"
       ]
      },
      {
       "metadata": {},
       "output_type": "display_data",
       "png": "[encoded data removed]",
       "text": [
        "<matplotlib.figure.Figure at 0x1b9954a10>"
       ]
      }
     ],
     "prompt_number": 425
    },
    {
     "cell_type": "code",
     "collapsed": false,
     "input": [
      "html = urllib2.urlopen(url[1])\n",
      "soup = BeautifulSoup(html)\n",
      "reviewTags=soup.find(attrs={'class' : 'post-body entry-content'})\n",
      "reviewText=reviewTags.text\n",
      "endReview=reviewText.rfind('Bulk Buy')"
     ],
     "language": "python",
     "metadata": {},
     "outputs": [],
     "prompt_number": 120
    },
    {
     "cell_type": "code",
     "collapsed": false,
     "input": [
      "from nltk.corpus import stopwords\n",
      "stops = set(stopwords.words('english'))"
     ],
     "language": "python",
     "metadata": {},
     "outputs": [],
     "prompt_number": 119
    },
    {
     "cell_type": "code",
     "collapsed": false,
     "input": [
      "uniqueWords,trainReviews,allWordsAllRevs=removeStopWords(allRevs[:800])\n",
      "uniqueWordsSet=set(uniqueWords)"
     ],
     "language": "python",
     "metadata": {},
     "outputs": [],
     "prompt_number": 131
    },
    {
     "cell_type": "code",
     "collapsed": false,
     "input": [
      "trainReviews?"
     ],
     "language": "python",
     "metadata": {},
     "outputs": [],
     "prompt_number": 133
    },
    {
     "cell_type": "code",
     "collapsed": false,
     "input": [
      "tokenWords=nltk.word_tokenize(str(allWordsInRev))"
     ],
     "language": "python",
     "metadata": {},
     "outputs": [],
     "prompt_number": 415
    },
    {
     "cell_type": "code",
     "collapsed": false,
     "input": [
      "fdist = nltk.FreqDist(tokenWords)"
     ],
     "language": "python",
     "metadata": {},
     "outputs": [],
     "prompt_number": 417
    },
    {
     "cell_type": "code",
     "collapsed": false,
     "input": [
      "fdist.plot(30,cumulative=True)"
     ],
     "language": "python",
     "metadata": {},
     "outputs": [
      {
       "metadata": {},
       "output_type": "display_data",
       "png": "[encoded data removed]",
       "text": [
        "<matplotlib.figure.Figure at 0x1b43fde10>"
       ]
      }
     ],
     "prompt_number": 418
    },
    {
     "cell_type": "code",
     "collapsed": false,
     "input": [
      "fdist.keys()[1]"
     ],
     "language": "python",
     "metadata": {},
     "outputs": [
      {
       "metadata": {},
       "output_type": "pyout",
       "prompt_number": 421,
       "text": [
        "\"'doural\""
       ]
      }
     ],
     "prompt_number": 421
    },
    {
     "cell_type": "code",
     "collapsed": false,
     "input": [
      "from sklearn.preprocessing import LabelBinarizer\n",
      "from sklearn.svm  import LinearSVC\n",
      "from sklearn.feature_extraction.text import CountVectorizer\n",
      "from sklearn.naive_bayes import BernoulliNB"
     ],
     "language": "python",
     "metadata": {},
     "outputs": [],
     "prompt_number": 303
    },
    {
     "cell_type": "code",
     "collapsed": false,
     "input": [
      "vec = CountVectorizer(vocabulary=uniqueWordsSet)"
     ],
     "language": "python",
     "metadata": {},
     "outputs": [],
     "prompt_number": 305
    },
    {
     "cell_type": "code",
     "collapsed": false,
     "input": [
      "trainXsparse=vec.fit_transform(reverseSnob['TypeClassifier'][:800])"
     ],
     "language": "python",
     "metadata": {},
     "outputs": [],
     "prompt_number": 426
    },
    {
     "cell_type": "code",
     "collapsed": false,
     "input": [
      "trainReviews?"
     ],
     "language": "python",
     "metadata": {},
     "outputs": [],
     "prompt_number": 428
    },
    {
     "cell_type": "code",
     "collapsed": false,
     "input": [
      "clf = MultinomialNB()\n",
      "clf.fit(trainXsparse,ytrain)"
     ],
     "language": "python",
     "metadata": {},
     "outputs": []
    }
   ],
   "metadata": {}
  }
 ]
}