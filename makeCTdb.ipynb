{
 "metadata": {
  "name": "",
  "signature": "sha256:caccdbfe6b9a0f7f5667d278fa1684c9bea69b79058a980e8bdf4d8622b90992"
 },
 "nbformat": 3,
 "nbformat_minor": 0,
 "worksheets": [
  {
   "cells": [
    {
     "cell_type": "code",
     "collapsed": false,
     "input": [
      "# notebook to make a database of the cellar\n",
      "import os\n",
      "import re\n",
      "\n",
      "import pandas as pd\n",
      "from pandas import DataFrame,Series\n",
      "import pandas.io.sql \n",
      "\n",
      "import numpy as np\n",
      "import random\n",
      "\n",
      "from bs4 import BeautifulSoup\n",
      "import requests\n",
      "\n",
      "import html5lib\n",
      "import unicodedata\n",
      "\n",
      "import pymysql as mdb\n",
      "\n",
      "import unicodedata\n",
      "\n",
      "from itertools import islice\n",
      "import readline\n",
      "from HTMLParser import HTMLParser"
     ],
     "language": "python",
     "metadata": {},
     "outputs": [],
     "prompt_number": 193
    },
    {
     "cell_type": "code",
     "collapsed": false,
     "input": [
      "def getDFfromFile(startN,stopN):\n",
      "    # enter number of wine that should \n",
      "    #nWines=range(1,nWines*10,nWines)\n",
      "    allReviews=pd.DataFrame()\n",
      "    r=pd.DataFrame()\n",
      "    nWines=range(startN*10,stopN*10,10)\n",
      "\n",
      "    for w in nWines:\n",
      "        if w == 0:\n",
      "            head=pd.read_csv(\"../cellarTracker.txt\",sep='\\n',nrows=10,header=None)\n",
      "        elif w > 0 :\n",
      "            head=pd.read_csv(\"../cellarTracker.txt\",sep='\\n',nrows=10,header=None,skiprows=w)\n",
      "        #head=[unicodedata.normalize('NFD', y).encode('ascii', 'ignore') for y in head[0]]\n",
      "        head=head.dropna()\n",
      "        keys=[]\n",
      "        vals=[]\n",
      "        for line in head[0]:\n",
      "            try:\n",
      "                line=unicode(HTMLParser().unescape(line))\n",
      "            except: \n",
      "                line=unicode(line,errors='ignore')\n",
      "               #print line\n",
      "            line=line.replace('\\n','')\n",
      "            line=unicodedata.normalize('NFD', line).encode('ascii', 'ignore')\n",
      "            keyVal= line.split(':')\n",
      "            if keyVal[0] != '':\n",
      "                #print keyVal\n",
      "                #keyVal[1]=keyVal[1].decode('utf-8')\n",
      "                keys.append(keyVal[0])\n",
      "                vals.append(keyVal[1])\n",
      "                review=dict(zip(keys,vals))\n",
      "                #review=dict(review)\n",
      "                r= pd.DataFrame([review])\n",
      "        #r.to_csv('../snapCTdata.csv',mode='a')\n",
      "        allReviews=allReviews.append(r)\n",
      "        allReviews.replace(' N/A','0',inplace=True)\n",
      "        allReviews.reset_index(inplace=True,drop=True)\n",
      "\n",
      "    return allReviews"
     ],
     "language": "python",
     "metadata": {},
     "outputs": [],
     "prompt_number": 377
    },
    {
     "cell_type": "code",
     "collapsed": false,
     "input": [
      "def writeToSql(review):\n",
      "    # take in a data frame of with all teh wine, user and review data - make 3 tables and write to sql\n",
      "    #[u'review/points', u'review/text', u'review/time', u'review/userId', u'review/userName', u'wine/name', 6\n",
      "    #u'wine/variant', u'wine/wineId', u'wine/year'], dtype='object'\n",
      "    #review.drop('index', axis=1,inplace=True)\n",
      "    c=review.columns\n",
      "    wineCols=[c[7],c[5],c[8],c[6],c[0]]\n",
      "    userCols=[c[3],c[4]]\n",
      "    rCols=[c[7],c[3],c[2],c[1]]\n",
      "    \n",
      "    wine=pd.DataFrame(review[wineCols])\n",
      "    wine.columns=['wineId','wineName', 'year','wineVariant', 'ratingScore']\n",
      "    \n",
      "    user=pd.DataFrame(review[userCols])\n",
      "    user.columns=['userId','userName']\n",
      "    \n",
      "    review=pd.DataFrame(review[rCols])\n",
      "    review.columns=['wineId','userId','time','review']\n",
      "    numRev=len(review)\n",
      "    \n",
      "    wine.to_csv('../firstTenThouWine.csv',mode='a')\n",
      "    user.to_csv('../firstTenThouUser.csv',mode='a')\n",
      "    review.to_csv('../firstTenThouReview.csv',mode='a')\n",
      "        \n",
      "#     wine.to_sql(con=con,name='snapCTwine', flavor='mysql',if_exists='append',index=False)\n",
      "\n",
      "#     user.to_sql(con=con,name='snapC|Tuser', flavor='mysql',if_exists='append',index=False)\n",
      "\n",
      "#     review.to_sql(con=con,name='snapCTreviews', flavor='mysql',if_exists='append',index=False)\n",
      "\n",
      "    return wine,user,review\n",
      "            \n",
      "    #to_sql(con=con,name='reverseSnobTable', flavor='mysql',if_exists='append',index_label='indx')"
     ],
     "language": "python",
     "metadata": {},
     "outputs": [],
     "prompt_number": 376
    },
    {
     "cell_type": "code",
     "collapsed": false,
     "input": [
      "con = mdb.connect('localhost', 'root', 'cortex', 'cellarTracker') #host, user, password, #database\n",
      "cur = con.cursor()\n",
      "cur.execute(\"DROP TABLE IF EXISTS snapCTwine\")\n",
      "cur.execute(\"CREATE TABLE snapCTwine(wineId INT,wineName TINYTEXT, year INT, \\\n",
      "            wineVariant TINYTEXT, ratingScore INT)\") #PRIMARY KEY(wineId)\n",
      "\n",
      "cur.execute(\"DROP TABLE IF EXISTS snapCTuser\")\n",
      "cur.execute(\"CREATE TABLE snapCTuser(userId INT,userName TINYTEXT)\")#PRIMARY KEY(userId)\n",
      "\n",
      "cur.execute(\"DROP TABLE IF EXISTS snapCTreviews\")\n",
      "cur.execute(\"CREATE TABLE snapCTreviews(userId INT,wineId INT,time INT, review LONGTEXT) \") #PRIMARY KEY(wineId,userId)\n",
      "            \n",
      "            \n",
      "            #MEDIUMTEXT,TDtwo MEDIUMTEXT,TDtre MEDIUMTEXT)\")\n",
      "            "
     ],
     "language": "python",
     "metadata": {},
     "outputs": [
      {
       "metadata": {},
       "output_type": "pyout",
       "prompt_number": 336,
       "text": [
        "0"
       ]
      }
     ],
     "prompt_number": 336
    },
    {
     "cell_type": "code",
     "collapsed": false,
     "input": [
      "# firstTen=pd.DataFrame()\n",
      "#firstTenThou=getDFfromFile(2025995)\n",
      "#wine,user,review= writeToSql(2025995)\n",
      "#2025995\n",
      "\n",
      "for n in range(0,202000,1000):\n",
      "    firstThou=getDFfromFile(n,n+1000)\n",
      "    wine,user,review= writeToSql(firstThou)\n",
      "    print np.divide(n,1000)"
     ],
     "language": "python",
     "metadata": {},
     "outputs": [
      {
       "output_type": "stream",
       "stream": "stdout",
       "text": [
        "0\n",
        "1"
       ]
      },
      {
       "output_type": "stream",
       "stream": "stdout",
       "text": [
        "\n",
        "2"
       ]
      }
     ]
    },
    {
     "cell_type": "code",
     "collapsed": false,
     "input": [
      "wine.to_csv('../firstTenThouWine.csv')\n",
      "user.to_csv('../firstTenThouUser.csv')\n",
      "review.to_csv('../firstTenThouReview.csv')"
     ],
     "language": "python",
     "metadata": {},
     "outputs": [],
     "prompt_number": 367
    },
    {
     "cell_type": "code",
     "collapsed": false,
     "input": [
      "firstTenThou?"
     ],
     "language": "python",
     "metadata": {},
     "outputs": [],
     "prompt_number": 371
    },
    {
     "cell_type": "code",
     "collapsed": false,
     "input": [
      "w.replace(' N/A','0',inplace=True)"
     ],
     "language": "python",
     "metadata": {},
     "outputs": [],
     "prompt_number": 282
    },
    {
     "cell_type": "code",
     "collapsed": false,
     "input": [
      "range(1000,1999,100)"
     ],
     "language": "python",
     "metadata": {},
     "outputs": [
      {
       "metadata": {},
       "output_type": "pyout",
       "prompt_number": 375,
       "text": [
        "[1000, 1100, 1200, 1300, 1400, 1500, 1600, 1700, 1800, 1900]"
       ]
      }
     ],
     "prompt_number": 375
    },
    {
     "cell_type": "code",
     "collapsed": false,
     "input": [
      "f=open(\"../cellarTracker.txt\") "
     ],
     "language": "python",
     "metadata": {},
     "outputs": []
    },
    {
     "cell_type": "heading",
     "level": 1,
     "metadata": {},
     "source": []
    },
    {
     "cell_type": "code",
     "collapsed": false,
     "input": [
      "h = [h for h in head if len(h)>3]"
     ],
     "language": "python",
     "metadata": {},
     "outputs": []
    },
    {
     "cell_type": "code",
     "collapsed": false,
     "input": [
      "print type(v)"
     ],
     "language": "python",
     "metadata": {},
     "outputs": [
      {
       "output_type": "stream",
       "stream": "stdout",
       "text": [
        "<type 'str'>\n"
       ]
      }
     ],
     "prompt_number": 170
    },
    {
     "cell_type": "code",
     "collapsed": false,
     "input": [
      "=v.decode('latin-1')"
     ],
     "language": "python",
     "metadata": {},
     "outputs": [],
     "prompt_number": 173
    },
    {
     "cell_type": "code",
     "collapsed": false,
     "input": [
      "type(w)"
     ],
     "language": "python",
     "metadata": {},
     "outputs": [
      {
       "metadata": {},
       "output_type": "pyout",
       "prompt_number": 176,
       "text": [
        "unicode"
       ]
      }
     ],
     "prompt_number": 176
    },
    {
     "cell_type": "code",
     "collapsed": false,
     "input": [
      "reviews=pd.read_csv(\"../cellarTracker.txt\",sep='\\n',nrows=f,header=None,skiprows=r)"
     ],
     "language": "python",
     "metadata": {},
     "outputs": []
    },
    {
     "cell_type": "code",
     "collapsed": false,
     "input": [
      "reviews"
     ],
     "language": "python",
     "metadata": {},
     "outputs": []
    },
    {
     "cell_type": "code",
     "collapsed": false,
     "input": [
      "print unichr('&#226;')"
     ],
     "language": "python",
     "metadata": {},
     "outputs": [
      {
       "ename": "TypeError",
       "evalue": "an integer is required",
       "output_type": "pyerr",
       "traceback": [
        "\u001b[0;31m---------------------------------------------------------------------------\u001b[0m\n\u001b[0;31mTypeError\u001b[0m                                 Traceback (most recent call last)",
        "\u001b[0;32m<ipython-input-179-a5ab5a913bc5>\u001b[0m in \u001b[0;36m<module>\u001b[0;34m()\u001b[0m\n\u001b[0;32m----> 1\u001b[0;31m \u001b[0;32mprint\u001b[0m \u001b[0munichr\u001b[0m\u001b[0;34m(\u001b[0m\u001b[0;34m'&#226;'\u001b[0m\u001b[0;34m)\u001b[0m\u001b[0;34m\u001b[0m\u001b[0m\n\u001b[0m",
        "\u001b[0;31mTypeError\u001b[0m: an integer is required"
       ]
      }
     ],
     "prompt_number": 179
    },
    {
     "cell_type": "code",
     "collapsed": false,
     "input": [],
     "language": "python",
     "metadata": {},
     "outputs": [],
     "prompt_number": 180
    },
    {
     "cell_type": "code",
     "collapsed": false,
     "input": [
      "print HTMLParser().unescape(v)"
     ],
     "language": "python",
     "metadata": {},
     "outputs": [
      {
       "output_type": "stream",
       "stream": "stdout",
       "text": [
        " 1981 Ch\u00e2teau de Beaucastel Ch\u00e2teauneuf-du-Pape\n"
       ]
      }
     ],
     "prompt_number": 184
    },
    {
     "cell_type": "code",
     "collapsed": false,
     "input": [
      "v"
     ],
     "language": "python",
     "metadata": {},
     "outputs": [
      {
       "metadata": {},
       "output_type": "pyout",
       "prompt_number": 185,
       "text": [
        "' 1981 Ch&#226;teau de Beaucastel Ch&#226;teauneuf-du-Pape'"
       ]
      }
     ],
     "prompt_number": 185
    },
    {
     "cell_type": "code",
     "collapsed": false,
     "input": [
      "user=pd.DataFrame(columns=['userId','userName'])"
     ],
     "language": "python",
     "metadata": {},
     "outputs": [],
     "prompt_number": 347
    },
    {
     "cell_type": "code",
     "collapsed": false,
     "input": [
      "user"
     ],
     "language": "python",
     "metadata": {},
     "outputs": [
      {
       "html": [
        "<div style=\"max-height:1000px;max-width:1500px;overflow:auto;\">\n",
        "<table border=\"1\" class=\"dataframe\">\n",
        "  <thead>\n",
        "    <tr style=\"text-align: right;\">\n",
        "      <th></th>\n",
        "      <th>userId</th>\n",
        "      <th>userName</th>\n",
        "    </tr>\n",
        "  </thead>\n",
        "  <tbody>\n",
        "  </tbody>\n",
        "</table>\n",
        "</div>"
       ],
       "metadata": {},
       "output_type": "pyout",
       "prompt_number": 348,
       "text": [
        "Empty DataFrame\n",
        "Columns: [userId, userName]\n",
        "Index: []"
       ]
      }
     ],
     "prompt_number": 348
    },
    {
     "cell_type": "code",
     "collapsed": false,
     "input": [],
     "language": "python",
     "metadata": {},
     "outputs": []
    }
   ],
   "metadata": {}
  }
 ]
}