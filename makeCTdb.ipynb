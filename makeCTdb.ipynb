{
 "metadata": {
  "name": "",
  "signature": "sha256:f5cff1fee11e715f05f62a09464713e10718bf81de73f452515c8105893bc22c"
 },
 "nbformat": 3,
 "nbformat_minor": 0,
 "worksheets": [
  {
   "cells": [
    {
     "cell_type": "code",
     "collapsed": false,
     "input": [
      "# notebook to make a database of the cellar\n",
      "import os\n",
      "import re\n",
      "\n",
      "import pandas as pd\n",
      "from pandas import DataFrame,Series\n",
      "import pandas.io.sql \n",
      "\n",
      "import numpy as np\n",
      "import random\n",
      "\n",
      "from bs4 import BeautifulSoup\n",
      "import requests\n",
      "\n",
      "import html5lib\n",
      "import unicodedata\n",
      "\n",
      "import pymysql as mdb\n",
      "\n",
      "import json\n",
      "\n",
      "from itertools import islice\n",
      "import readline\n",
      "from HTMLParser import HTMLParser"
     ],
     "language": "python",
     "metadata": {},
     "outputs": []
    },
    {
     "cell_type": "code",
     "collapsed": false,
     "input": [
      "def getDFfromFile(nWines):\n",
      "    # enter number of wine that should \n",
      "    #nWines=range(1,nWines*10,nWines)\n",
      "    allReviews=pd.DataFrame()\n",
      "    r=pd.DataFrame()\n",
      "    nWines=range(0,nWines*10,10)\n",
      "\n",
      "    for w in nWines:\n",
      "        if w == 0:\n",
      "            head=pd.read_csv(\"../cellarTracker.txt\",sep='\\n',nrows=10,header=None)\n",
      "        elif w > 0 :\n",
      "            head=pd.read_csv(\"../cellarTracker.txt\",sep='\\n',nrows=10,header=None,skiprows=w)\n",
      "        #head=[unicodedata.normalize('NFD', y).encode('ascii', 'ignore') for y in head[0]]\n",
      "        head=head.dropna()\n",
      "        keys=[]\n",
      "        vals=[]\n",
      "        for line in head[0]:\n",
      "            line=HTMLParser().unescape(line)\n",
      "            line=line.replace('\\n','')\n",
      "            keyVal= line.split(':')\n",
      "            if keyVal[0] != '':\n",
      "                #print keyVal\n",
      "                #keyVal[1]=keyVal[1].decode('utf-8')\n",
      "                keys.append(keyVal[0])\n",
      "                vals.append(keyVal[1])\n",
      "                review=dict(zip(keys,vals))\n",
      "                #review=dict(review)\n",
      "                r= pd.DataFrame([review])\n",
      "        allReviews=allReviews.append(r)\n",
      "\n",
      "    return allReviews"
     ],
     "language": "python",
     "metadata": {},
     "outputs": [],
     "prompt_number": 187
    },
    {
     "cell_type": "code",
     "collapsed": false,
     "input": [
      "firstTen=pd.DataFrame()\n",
      "firstTen=getDFfromFile(5)\n",
      "#2025995"
     ],
     "language": "python",
     "metadata": {},
     "outputs": [
      {
       "output_type": "stream",
       "stream": "stdout",
       "text": [
        " 1981 Ch\u00e2teau de Beaucastel Ch\u00e2teauneuf-du-Pape\n",
        " 18856\n",
        " Red Rhone Blend\n",
        " 1981\n",
        " 96\n",
        " 1160179200\n",
        " 1\n",
        " Eric\n",
        " Olive, horse sweat, dirty saddle, and smoke. This actually got quite a bit more spicy and expressive with significant aeration. This was a little dry on the palate first but filled out considerably in time, lovely, loaded with tapenade, leather, dry and powerful, very black olive, meaty. This improved considerably the longer it was open. A terrific bottle of 1981, 96+ and improving. This may well be my favorite vintage of Beau except for perhaps the 1990.\n",
        " 1995 Ch\u00e2teau Pichon-Longueville Baron\n",
        " 3495\n",
        " Red Bordeaux Blend\n",
        " 1995\n",
        " 93\n",
        " 1063299600\n",
        " 1\n",
        " Eric\n",
        " A remarkably floral nose with violet and chambord. On the palate this is super sweet and pure with a long, somewhat searing finish. My notes are very terse, but this was a lovely wine.\n",
        " 2001 Thierry Allemand Cornas Reynard\n",
        " 40451\n",
        " Syrah\n",
        " 2001\n",
        " 92\n",
        " 1195948800\n",
        " 1\n",
        " Eric\n",
        " Fantastic wine! Blackberry, smoke, olive, stem, floral notes and bit of tar. This is one expressive nose for a young wine. Saturated palate. Juicy with black cherry notes playing with tar. Quite acidic and fresh. Very young. Terrific character on this wine. Surprisingly polished for a Cornas."
       ]
      },
      {
       "output_type": "stream",
       "stream": "stdout",
       "text": [
        "\n",
        " 2001 Ch\u00e2teau Pavie Decesse\n",
        " 26767\n",
        " Red Bordeaux Blend\n",
        " 2001\n",
        " N/A\n",
        " 1344124800\n",
        " 1\n",
        " Eric\n",
        " Perfect cork. Perfect fill. Somewhat alluring with chocolate and plum, but this is marked by definite and troubling notes of raisin and prune. My last bottle and glad to see it go with 2 of four bottles that were deeply troubled and overripe.\n",
        " 2003 Clos des Papes Ch\u00e2teauneuf-du-Pape\n",
        " 31665\n",
        " Red Rhone Blend\n",
        " 2003\n",
        " N/A\n",
        " 1123718400\n",
        " 1\n",
        " Eric\n",
        " OMFG, this wine just does not quit. I need to stop with this already (my third bottle in a week, hoohah!!!). Raspberry jam and some heat moving to white pepper, deeply tannic, wow, what structure! The extraction, intensity and depth relative to the 2001 are just dramatically deeper. Wow!\n"
       ]
      }
     ],
     "prompt_number": 188
    },
    {
     "cell_type": "code",
     "collapsed": false,
     "input": [
      "firstTen"
     ],
     "language": "python",
     "metadata": {},
     "outputs": [
      {
       "html": [
        "<div style=\"max-height:1000px;max-width:1500px;overflow:auto;\">\n",
        "<table border=\"1\" class=\"dataframe\">\n",
        "  <thead>\n",
        "    <tr style=\"text-align: right;\">\n",
        "      <th></th>\n",
        "      <th>review/points</th>\n",
        "      <th>review/text</th>\n",
        "      <th>review/time</th>\n",
        "      <th>review/userId</th>\n",
        "      <th>review/userName</th>\n",
        "      <th>wine/name</th>\n",
        "      <th>wine/variant</th>\n",
        "      <th>wine/wineId</th>\n",
        "      <th>wine/year</th>\n",
        "    </tr>\n",
        "  </thead>\n",
        "  <tbody>\n",
        "    <tr>\n",
        "      <th>0</th>\n",
        "      <td>   96</td>\n",
        "      <td>  Olive, horse sweat, dirty saddle, and smoke. ...</td>\n",
        "      <td>  1160179200</td>\n",
        "      <td>  1</td>\n",
        "      <td>  Eric</td>\n",
        "      <td>  1981 Ch\u00e2teau de Beaucastel Ch\u00e2teauneuf-du-Pape</td>\n",
        "      <td>     Red Rhone Blend</td>\n",
        "      <td>  18856</td>\n",
        "      <td>  1981</td>\n",
        "    </tr>\n",
        "    <tr>\n",
        "      <th>0</th>\n",
        "      <td>   93</td>\n",
        "      <td>  A remarkably floral nose with violet and cham...</td>\n",
        "      <td>  1063299600</td>\n",
        "      <td>  1</td>\n",
        "      <td>  Eric</td>\n",
        "      <td>           1995 Ch\u00e2teau Pichon-Longueville Baron</td>\n",
        "      <td>  Red Bordeaux Blend</td>\n",
        "      <td>   3495</td>\n",
        "      <td>  1995</td>\n",
        "    </tr>\n",
        "    <tr>\n",
        "      <th>0</th>\n",
        "      <td>   92</td>\n",
        "      <td>  Fantastic wine! Blackberry, smoke, olive, ste...</td>\n",
        "      <td>  1195948800</td>\n",
        "      <td>  1</td>\n",
        "      <td>  Eric</td>\n",
        "      <td>            2001 Thierry Allemand Cornas Reynard</td>\n",
        "      <td>               Syrah</td>\n",
        "      <td>  40451</td>\n",
        "      <td>  2001</td>\n",
        "    </tr>\n",
        "    <tr>\n",
        "      <th>0</th>\n",
        "      <td>  N/A</td>\n",
        "      <td>  Perfect cork. Perfect fill. Somewhat alluring...</td>\n",
        "      <td>  1344124800</td>\n",
        "      <td>  1</td>\n",
        "      <td>  Eric</td>\n",
        "      <td>                      2001 Ch\u00e2teau Pavie Decesse</td>\n",
        "      <td>  Red Bordeaux Blend</td>\n",
        "      <td>  26767</td>\n",
        "      <td>  2001</td>\n",
        "    </tr>\n",
        "    <tr>\n",
        "      <th>0</th>\n",
        "      <td>  N/A</td>\n",
        "      <td>  OMFG, this wine just does not quit. I need to...</td>\n",
        "      <td>  1123718400</td>\n",
        "      <td>  1</td>\n",
        "      <td>  Eric</td>\n",
        "      <td>         2003 Clos des Papes Ch\u00e2teauneuf-du-Pape</td>\n",
        "      <td>     Red Rhone Blend</td>\n",
        "      <td>  31665</td>\n",
        "      <td>  2003</td>\n",
        "    </tr>\n",
        "  </tbody>\n",
        "</table>\n",
        "</div>"
       ],
       "metadata": {},
       "output_type": "pyout",
       "prompt_number": 189,
       "text": [
        "  review/points                                        review/text  \\\n",
        "0            96   Olive, horse sweat, dirty saddle, and smoke. ...   \n",
        "0            93   A remarkably floral nose with violet and cham...   \n",
        "0            92   Fantastic wine! Blackberry, smoke, olive, ste...   \n",
        "0           N/A   Perfect cork. Perfect fill. Somewhat alluring...   \n",
        "0           N/A   OMFG, this wine just does not quit. I need to...   \n",
        "\n",
        "   review/time review/userId review/userName  \\\n",
        "0   1160179200             1            Eric   \n",
        "0   1063299600             1            Eric   \n",
        "0   1195948800             1            Eric   \n",
        "0   1344124800             1            Eric   \n",
        "0   1123718400             1            Eric   \n",
        "\n",
        "                                         wine/name         wine/variant  \\\n",
        "0   1981 Ch\u00e2teau de Beaucastel Ch\u00e2teauneuf-du-Pape      Red Rhone Blend   \n",
        "0            1995 Ch\u00e2teau Pichon-Longueville Baron   Red Bordeaux Blend   \n",
        "0             2001 Thierry Allemand Cornas Reynard                Syrah   \n",
        "0                       2001 Ch\u00e2teau Pavie Decesse   Red Bordeaux Blend   \n",
        "0          2003 Clos des Papes Ch\u00e2teauneuf-du-Pape      Red Rhone Blend   \n",
        "\n",
        "  wine/wineId wine/year  \n",
        "0       18856      1981  \n",
        "0        3495      1995  \n",
        "0       40451      2001  \n",
        "0       26767      2001  \n",
        "0       31665      2003  "
       ]
      }
     ],
     "prompt_number": 189
    },
    {
     "cell_type": "code",
     "collapsed": false,
     "input": [],
     "language": "python",
     "metadata": {},
     "outputs": [
      {
       "ename": "LookupError",
       "evalue": "unknown encoding: U+00E2",
       "output_type": "pyerr",
       "traceback": [
        "\u001b[0;31m---------------------------------------------------------------------------\u001b[0m\n\u001b[0;31mLookupError\u001b[0m                               Traceback (most recent call last)",
        "\u001b[0;32m<ipython-input-177-ea8c8b3ad625>\u001b[0m in \u001b[0;36m<module>\u001b[0;34m()\u001b[0m\n\u001b[0;32m----> 1\u001b[0;31m \u001b[0;32mprint\u001b[0m \u001b[0mv\u001b[0m\u001b[0;34m.\u001b[0m\u001b[0mdecode\u001b[0m\u001b[0;34m(\u001b[0m\u001b[0;34m'U+00E2'\u001b[0m\u001b[0;34m)\u001b[0m\u001b[0;34m\u001b[0m\u001b[0m\n\u001b[0m",
        "\u001b[0;31mLookupError\u001b[0m: unknown encoding: U+00E2"
       ]
      }
     ],
     "prompt_number": 177
    },
    {
     "cell_type": "code",
     "collapsed": false,
     "input": [
      "f=open(\"../cellarTracker.txt\") "
     ],
     "language": "python",
     "metadata": {},
     "outputs": []
    },
    {
     "cell_type": "heading",
     "level": 1,
     "metadata": {},
     "source": []
    },
    {
     "cell_type": "code",
     "collapsed": false,
     "input": [
      "h = [h for h in head if len(h)>3]"
     ],
     "language": "python",
     "metadata": {},
     "outputs": []
    },
    {
     "cell_type": "code",
     "collapsed": false,
     "input": [
      "print type(v)"
     ],
     "language": "python",
     "metadata": {},
     "outputs": [
      {
       "output_type": "stream",
       "stream": "stdout",
       "text": [
        "<type 'str'>\n"
       ]
      }
     ],
     "prompt_number": 170
    },
    {
     "cell_type": "code",
     "collapsed": false,
     "input": [
      "w=v.decode('latin-1')"
     ],
     "language": "python",
     "metadata": {},
     "outputs": [],
     "prompt_number": 173
    },
    {
     "cell_type": "code",
     "collapsed": false,
     "input": [
      "type(w)"
     ],
     "language": "python",
     "metadata": {},
     "outputs": [
      {
       "metadata": {},
       "output_type": "pyout",
       "prompt_number": 176,
       "text": [
        "unicode"
       ]
      }
     ],
     "prompt_number": 176
    },
    {
     "cell_type": "code",
     "collapsed": false,
     "input": [
      "reviews=pd.read_csv(\"../cellarTracker.txt\",sep='\\n',nrows=f,header=None,skiprows=r)"
     ],
     "language": "python",
     "metadata": {},
     "outputs": []
    },
    {
     "cell_type": "code",
     "collapsed": false,
     "input": [
      "reviews"
     ],
     "language": "python",
     "metadata": {},
     "outputs": []
    },
    {
     "cell_type": "code",
     "collapsed": false,
     "input": [
      "print unichr('&#226;')"
     ],
     "language": "python",
     "metadata": {},
     "outputs": [
      {
       "ename": "TypeError",
       "evalue": "an integer is required",
       "output_type": "pyerr",
       "traceback": [
        "\u001b[0;31m---------------------------------------------------------------------------\u001b[0m\n\u001b[0;31mTypeError\u001b[0m                                 Traceback (most recent call last)",
        "\u001b[0;32m<ipython-input-179-a5ab5a913bc5>\u001b[0m in \u001b[0;36m<module>\u001b[0;34m()\u001b[0m\n\u001b[0;32m----> 1\u001b[0;31m \u001b[0;32mprint\u001b[0m \u001b[0munichr\u001b[0m\u001b[0;34m(\u001b[0m\u001b[0;34m'&#226;'\u001b[0m\u001b[0;34m)\u001b[0m\u001b[0;34m\u001b[0m\u001b[0m\n\u001b[0m",
        "\u001b[0;31mTypeError\u001b[0m: an integer is required"
       ]
      }
     ],
     "prompt_number": 179
    },
    {
     "cell_type": "code",
     "collapsed": false,
     "input": [],
     "language": "python",
     "metadata": {},
     "outputs": [],
     "prompt_number": 180
    },
    {
     "cell_type": "code",
     "collapsed": false,
     "input": [
      "print HTMLParser().unescape(v)"
     ],
     "language": "python",
     "metadata": {},
     "outputs": [
      {
       "output_type": "stream",
       "stream": "stdout",
       "text": [
        " 1981 Ch\u00e2teau de Beaucastel Ch\u00e2teauneuf-du-Pape\n"
       ]
      }
     ],
     "prompt_number": 184
    },
    {
     "cell_type": "code",
     "collapsed": false,
     "input": [
      "v"
     ],
     "language": "python",
     "metadata": {},
     "outputs": [
      {
       "metadata": {},
       "output_type": "pyout",
       "prompt_number": 185,
       "text": [
        "' 1981 Ch&#226;teau de Beaucastel Ch&#226;teauneuf-du-Pape'"
       ]
      }
     ],
     "prompt_number": 185
    },
    {
     "cell_type": "code",
     "collapsed": false,
     "input": [],
     "language": "python",
     "metadata": {},
     "outputs": []
    }
   ],
   "metadata": {}
  }
 ]
}