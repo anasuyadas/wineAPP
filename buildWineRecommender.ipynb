{
 "metadata": {
  "name": "",
  "signature": "sha256:4b5053813e77b1b4afde5b643c9d0d50bb7b623538c32fb03d430d93a226f118"
 },
 "nbformat": 3,
 "nbformat_minor": 0,
 "worksheets": [
  {
   "cells": [
    {
     "cell_type": "code",
     "collapsed": false,
     "input": [
      "import os\n",
      "import re\n",
      "\n",
      "import pandas as pd\n",
      "from pandas import DataFrame,Series\n",
      "import pandas.io.sql \n",
      "\n",
      "import numpy as np\n",
      "import random\n",
      "\n",
      "from bs4 import BeautifulSoup\n",
      "import requests\n",
      "\n",
      "import html5lib\n",
      "import unicodedata\n",
      "\n",
      "import pymysql as mdb\n",
      "\n",
      "import nltk\n",
      "from nltk.corpus import stopwords\n"
     ],
     "language": "python",
     "metadata": {},
     "outputs": []
    },
    {
     "cell_type": "code",
     "collapsed": false,
     "input": [
      "stops = set(stopwords.words('english'))"
     ],
     "language": "python",
     "metadata": {},
     "outputs": []
    },
    {
     "cell_type": "code",
     "collapsed": false,
     "input": [],
     "language": "python",
     "metadata": {},
     "outputs": []
    }
   ],
   "metadata": {}
  }
 ]
}