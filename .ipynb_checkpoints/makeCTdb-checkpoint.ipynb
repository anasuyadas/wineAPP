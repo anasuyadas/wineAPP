{
 "metadata": {
  "name": "",
  "signature": "sha256:9585876ccbe89634ea0712fb147dc39ee8da94e29d33232e0c9a31260c7e0213"
 },
 "nbformat": 3,
 "nbformat_minor": 0,
 "worksheets": [
  {
   "cells": [
    {
     "cell_type": "code",
     "collapsed": false,
     "input": [
      "# notebook to make a database of the cellar\n",
      "import os\n",
      "import re\n",
      "\n",
      "import pandas as pd\n",
      "from pandas import DataFrame,Series\n",
      "import pandas.io.sql \n",
      "\n",
      "import numpy as np\n",
      "import random\n",
      "\n",
      "from bs4 import BeautifulSoup\n",
      "import requests\n",
      "\n",
      "import html5lib\n",
      "import unicodedata\n",
      "\n",
      "import pymysql as mdb\n",
      "\n",
      "import json\n",
      "\n",
      "from itertools import islice"
     ],
     "language": "python",
     "metadata": {},
     "outputs": [],
     "prompt_number": 51
    },
    {
     "cell_type": "code",
     "collapsed": false,
     "input": [
      "def getDFfromFile(nWines):\n",
      "    # enter number of wine that should \n",
      "    #nWines=range(1,nWines*10,nWines)\n",
      "    allReviews=pd.DataFrame()\n",
      "    r=pd.DataFrame()\n",
      "    nWines=range(0,nWines*100,nWines)\n",
      "    f=open(\"../cellarTracker.txt\")\n",
      "    for w in nWines:\n",
      "        f=open(\"../cellarTracker.txt\") \n",
      "        head=list(islice(f,w,w+10))\n",
      "        for w in nWines: \n",
      "            head = [h for h in head if len(h)>3]\n",
      "            keys=[]\n",
      "            val=[]\n",
      "            for line in head:\n",
      "                line=line.replace('\\n','')\n",
      "                keyVal= line.split(':')\n",
      "                if keyVal[0] != '':\n",
      "                    #print keyVal\n",
      "                    keys.append(keyVal[0])\n",
      "                    vals.append(keyVal[1])\n",
      "                    review=dict(zip(keys,vals))\n",
      "                    #review=dict(review)\n",
      "                    r= pd.DataFrame([review])\n",
      "            allReviews=allReviews.append(r)\n",
      "            \n",
      "    f.close()\n",
      "\n",
      "    return allReviews"
     ],
     "language": "python",
     "metadata": {},
     "outputs": [],
     "prompt_number": 325
    },
    {
     "cell_type": "code",
     "collapsed": false,
     "input": [
      "firstTen=pd.DataFrame()\n",
      "firstTen=getDFfromFile(10)"
     ],
     "language": "python",
     "metadata": {},
     "outputs": [
      {
       "ename": "KeyboardInterrupt",
       "evalue": "",
       "output_type": "pyerr",
       "traceback": [
        "\u001b[0;31m---------------------------------------------------------------------------\u001b[0m\n\u001b[0;31mKeyboardInterrupt\u001b[0m                         Traceback (most recent call last)",
        "\u001b[0;32m<ipython-input-326-1cb2a865ba5c>\u001b[0m in \u001b[0;36m<module>\u001b[0;34m()\u001b[0m\n\u001b[1;32m      1\u001b[0m \u001b[0mfirstTen\u001b[0m\u001b[0;34m=\u001b[0m\u001b[0mpd\u001b[0m\u001b[0;34m.\u001b[0m\u001b[0mDataFrame\u001b[0m\u001b[0;34m(\u001b[0m\u001b[0;34m)\u001b[0m\u001b[0;34m\u001b[0m\u001b[0m\n\u001b[0;32m----> 2\u001b[0;31m \u001b[0mfirstTen\u001b[0m\u001b[0;34m=\u001b[0m\u001b[0mgetDFfromFile\u001b[0m\u001b[0;34m(\u001b[0m\u001b[0;36m10\u001b[0m\u001b[0;34m)\u001b[0m\u001b[0;34m\u001b[0m\u001b[0m\n\u001b[0m",
        "\u001b[0;32m<ipython-input-325-a171bf78bc1f>\u001b[0m in \u001b[0;36mgetDFfromFile\u001b[0;34m(nWines)\u001b[0m\n\u001b[1;32m     22\u001b[0m                     \u001b[0mreview\u001b[0m\u001b[0;34m=\u001b[0m\u001b[0mdict\u001b[0m\u001b[0;34m(\u001b[0m\u001b[0mzip\u001b[0m\u001b[0;34m(\u001b[0m\u001b[0mkeys\u001b[0m\u001b[0;34m,\u001b[0m\u001b[0mvals\u001b[0m\u001b[0;34m)\u001b[0m\u001b[0;34m)\u001b[0m\u001b[0;34m\u001b[0m\u001b[0m\n\u001b[1;32m     23\u001b[0m                     \u001b[0;31m#review=dict(review)\u001b[0m\u001b[0;34m\u001b[0m\u001b[0;34m\u001b[0m\u001b[0m\n\u001b[0;32m---> 24\u001b[0;31m                     \u001b[0mr\u001b[0m\u001b[0;34m=\u001b[0m \u001b[0mpd\u001b[0m\u001b[0;34m.\u001b[0m\u001b[0mDataFrame\u001b[0m\u001b[0;34m(\u001b[0m\u001b[0;34m[\u001b[0m\u001b[0mreview\u001b[0m\u001b[0;34m]\u001b[0m\u001b[0;34m)\u001b[0m\u001b[0;34m\u001b[0m\u001b[0m\n\u001b[0m\u001b[1;32m     25\u001b[0m             \u001b[0mallReviews\u001b[0m\u001b[0;34m=\u001b[0m\u001b[0mallReviews\u001b[0m\u001b[0;34m.\u001b[0m\u001b[0mappend\u001b[0m\u001b[0;34m(\u001b[0m\u001b[0mr\u001b[0m\u001b[0;34m)\u001b[0m\u001b[0;34m\u001b[0m\u001b[0m\n\u001b[1;32m     26\u001b[0m \u001b[0;34m\u001b[0m\u001b[0m\n",
        "\u001b[0;32m//anaconda/lib/python2.7/site-packages/pandas/core/frame.pyc\u001b[0m in \u001b[0;36m__init__\u001b[0;34m(self, data, index, columns, dtype, copy)\u001b[0m\n\u001b[1;32m    247\u001b[0m                         \u001b[0mindex\u001b[0m \u001b[0;34m=\u001b[0m \u001b[0m_default_index\u001b[0m\u001b[0;34m(\u001b[0m\u001b[0mlen\u001b[0m\u001b[0;34m(\u001b[0m\u001b[0mdata\u001b[0m\u001b[0;34m)\u001b[0m\u001b[0;34m)\u001b[0m\u001b[0;34m\u001b[0m\u001b[0m\n\u001b[1;32m    248\u001b[0m                     mgr = _arrays_to_mgr(arrays, columns, index, columns,\n\u001b[0;32m--> 249\u001b[0;31m                                          dtype=dtype)\n\u001b[0m\u001b[1;32m    250\u001b[0m                 \u001b[0;32melse\u001b[0m\u001b[0;34m:\u001b[0m\u001b[0;34m\u001b[0m\u001b[0m\n\u001b[1;32m    251\u001b[0m                     mgr = self._init_ndarray(data, index, columns, dtype=dtype,\n",
        "\u001b[0;32m//anaconda/lib/python2.7/site-packages/pandas/core/frame.pyc\u001b[0m in \u001b[0;36m_arrays_to_mgr\u001b[0;34m(arrays, arr_names, index, columns, dtype)\u001b[0m\n\u001b[1;32m   4628\u001b[0m     \u001b[0maxes\u001b[0m \u001b[0;34m=\u001b[0m \u001b[0;34m[\u001b[0m\u001b[0m_ensure_index\u001b[0m\u001b[0;34m(\u001b[0m\u001b[0mcolumns\u001b[0m\u001b[0;34m)\u001b[0m\u001b[0;34m,\u001b[0m \u001b[0m_ensure_index\u001b[0m\u001b[0;34m(\u001b[0m\u001b[0mindex\u001b[0m\u001b[0;34m)\u001b[0m\u001b[0;34m]\u001b[0m\u001b[0;34m\u001b[0m\u001b[0m\n\u001b[1;32m   4629\u001b[0m \u001b[0;34m\u001b[0m\u001b[0m\n\u001b[0;32m-> 4630\u001b[0;31m     \u001b[0;32mreturn\u001b[0m \u001b[0mcreate_block_manager_from_arrays\u001b[0m\u001b[0;34m(\u001b[0m\u001b[0marrays\u001b[0m\u001b[0;34m,\u001b[0m \u001b[0marr_names\u001b[0m\u001b[0;34m,\u001b[0m \u001b[0maxes\u001b[0m\u001b[0;34m)\u001b[0m\u001b[0;34m\u001b[0m\u001b[0m\n\u001b[0m\u001b[1;32m   4631\u001b[0m \u001b[0;34m\u001b[0m\u001b[0m\n\u001b[1;32m   4632\u001b[0m \u001b[0;34m\u001b[0m\u001b[0m\n",
        "\u001b[0;32m//anaconda/lib/python2.7/site-packages/pandas/core/internals.pyc\u001b[0m in \u001b[0;36mcreate_block_manager_from_arrays\u001b[0;34m(arrays, names, axes)\u001b[0m\n\u001b[1;32m   3233\u001b[0m \u001b[0;32mdef\u001b[0m \u001b[0mcreate_block_manager_from_arrays\u001b[0m\u001b[0;34m(\u001b[0m\u001b[0marrays\u001b[0m\u001b[0;34m,\u001b[0m \u001b[0mnames\u001b[0m\u001b[0;34m,\u001b[0m \u001b[0maxes\u001b[0m\u001b[0;34m)\u001b[0m\u001b[0;34m:\u001b[0m\u001b[0;34m\u001b[0m\u001b[0m\n\u001b[1;32m   3234\u001b[0m     \u001b[0;32mtry\u001b[0m\u001b[0;34m:\u001b[0m\u001b[0;34m\u001b[0m\u001b[0m\n\u001b[0;32m-> 3235\u001b[0;31m         \u001b[0mblocks\u001b[0m \u001b[0;34m=\u001b[0m \u001b[0mform_blocks\u001b[0m\u001b[0;34m(\u001b[0m\u001b[0marrays\u001b[0m\u001b[0;34m,\u001b[0m \u001b[0mnames\u001b[0m\u001b[0;34m,\u001b[0m \u001b[0maxes\u001b[0m\u001b[0;34m)\u001b[0m\u001b[0;34m\u001b[0m\u001b[0m\n\u001b[0m\u001b[1;32m   3236\u001b[0m         \u001b[0mmgr\u001b[0m \u001b[0;34m=\u001b[0m \u001b[0mBlockManager\u001b[0m\u001b[0;34m(\u001b[0m\u001b[0mblocks\u001b[0m\u001b[0;34m,\u001b[0m \u001b[0maxes\u001b[0m\u001b[0;34m)\u001b[0m\u001b[0;34m\u001b[0m\u001b[0m\n\u001b[1;32m   3237\u001b[0m         \u001b[0mmgr\u001b[0m\u001b[0;34m.\u001b[0m\u001b[0m_consolidate_inplace\u001b[0m\u001b[0;34m(\u001b[0m\u001b[0;34m)\u001b[0m\u001b[0;34m\u001b[0m\u001b[0m\n",
        "\u001b[0;32m//anaconda/lib/python2.7/site-packages/pandas/core/internals.pyc\u001b[0m in \u001b[0;36mform_blocks\u001b[0;34m(arrays, names, axes)\u001b[0m\n\u001b[1;32m   3253\u001b[0m     \u001b[0mextra_locs\u001b[0m \u001b[0;34m=\u001b[0m \u001b[0;34m[\u001b[0m\u001b[0;34m]\u001b[0m\u001b[0;34m\u001b[0m\u001b[0m\n\u001b[1;32m   3254\u001b[0m \u001b[0;34m\u001b[0m\u001b[0m\n\u001b[0;32m-> 3255\u001b[0;31m     \u001b[0mnames_idx\u001b[0m \u001b[0;34m=\u001b[0m \u001b[0mIndex\u001b[0m\u001b[0;34m(\u001b[0m\u001b[0mnames\u001b[0m\u001b[0;34m)\u001b[0m\u001b[0;34m\u001b[0m\u001b[0m\n\u001b[0m\u001b[1;32m   3256\u001b[0m     \u001b[0;32mif\u001b[0m \u001b[0mnames_idx\u001b[0m\u001b[0;34m.\u001b[0m\u001b[0mequals\u001b[0m\u001b[0;34m(\u001b[0m\u001b[0maxes\u001b[0m\u001b[0;34m[\u001b[0m\u001b[0;36m0\u001b[0m\u001b[0;34m]\u001b[0m\u001b[0;34m)\u001b[0m\u001b[0;34m:\u001b[0m\u001b[0;34m\u001b[0m\u001b[0m\n\u001b[1;32m   3257\u001b[0m         \u001b[0mnames_indexer\u001b[0m \u001b[0;34m=\u001b[0m \u001b[0mnp\u001b[0m\u001b[0;34m.\u001b[0m\u001b[0marange\u001b[0m\u001b[0;34m(\u001b[0m\u001b[0mlen\u001b[0m\u001b[0;34m(\u001b[0m\u001b[0mnames_idx\u001b[0m\u001b[0;34m)\u001b[0m\u001b[0;34m)\u001b[0m\u001b[0;34m\u001b[0m\u001b[0m\n",
        "\u001b[0;32m//anaconda/lib/python2.7/site-packages/pandas/core/index.pyc\u001b[0m in \u001b[0;36m__new__\u001b[0;34m(cls, data, dtype, copy, name, fastpath, tupleize_cols, **kwargs)\u001b[0m\n\u001b[1;32m    173\u001b[0m \u001b[0;34m\u001b[0m\u001b[0m\n\u001b[1;32m    174\u001b[0m         \u001b[0;32mif\u001b[0m \u001b[0mdtype\u001b[0m \u001b[0;32mis\u001b[0m \u001b[0mNone\u001b[0m\u001b[0;34m:\u001b[0m\u001b[0;34m\u001b[0m\u001b[0m\n\u001b[0;32m--> 175\u001b[0;31m             \u001b[0minferred\u001b[0m \u001b[0;34m=\u001b[0m \u001b[0mlib\u001b[0m\u001b[0;34m.\u001b[0m\u001b[0minfer_dtype\u001b[0m\u001b[0;34m(\u001b[0m\u001b[0msubarr\u001b[0m\u001b[0;34m)\u001b[0m\u001b[0;34m\u001b[0m\u001b[0m\n\u001b[0m\u001b[1;32m    176\u001b[0m             \u001b[0;32mif\u001b[0m \u001b[0minferred\u001b[0m \u001b[0;34m==\u001b[0m \u001b[0;34m'integer'\u001b[0m\u001b[0;34m:\u001b[0m\u001b[0;34m\u001b[0m\u001b[0m\n\u001b[1;32m    177\u001b[0m                 \u001b[0;32mreturn\u001b[0m \u001b[0mInt64Index\u001b[0m\u001b[0;34m(\u001b[0m\u001b[0msubarr\u001b[0m\u001b[0;34m.\u001b[0m\u001b[0mastype\u001b[0m\u001b[0;34m(\u001b[0m\u001b[0;34m'i8'\u001b[0m\u001b[0;34m)\u001b[0m\u001b[0;34m,\u001b[0m \u001b[0mcopy\u001b[0m\u001b[0;34m=\u001b[0m\u001b[0mcopy\u001b[0m\u001b[0;34m,\u001b[0m \u001b[0mname\u001b[0m\u001b[0;34m=\u001b[0m\u001b[0mname\u001b[0m\u001b[0;34m)\u001b[0m\u001b[0;34m\u001b[0m\u001b[0m\n",
        "\u001b[0;31mKeyboardInterrupt\u001b[0m: "
       ]
      }
     ],
     "prompt_number": 326
    },
    {
     "cell_type": "code",
     "collapsed": false,
     "input": [
      "firstTen"
     ],
     "language": "python",
     "metadata": {},
     "outputs": []
    },
    {
     "cell_type": "code",
     "collapsed": false,
     "input": [
      "nWines"
     ],
     "language": "python",
     "metadata": {},
     "outputs": [
      {
       "metadata": {},
       "output_type": "pyout",
       "prompt_number": 140,
       "text": [
        "[1, 11, 21, 31, 41, 51, 61, 71, 81, 91]"
       ]
      }
     ],
     "prompt_number": 140
    },
    {
     "cell_type": "code",
     "collapsed": false,
     "input": [
      "for w in range(0,100,10):\n",
      "    f=open(\"../cellarTracker.txt\") \n",
      "    head=list(islice(f,w,w+10))\n",
      "    print head\n",
      "    f.close()"
     ],
     "language": "python",
     "metadata": {},
     "outputs": [
      {
       "output_type": "stream",
       "stream": "stdout",
       "text": [
        "['wine/name: 1981 Ch&#226;teau de Beaucastel Ch&#226;teauneuf-du-Pape\\n', 'wine/wineId: 18856\\n', 'wine/variant: Red Rhone Blend\\n', 'wine/year: 1981\\n', 'review/points: 96\\n', 'review/time: 1160179200\\n', 'review/userId: 1\\n', 'review/userName: Eric\\n', 'review/text: Olive, horse sweat, dirty saddle, and smoke. This actually got quite a bit more spicy and expressive with significant aeration. This was a little dry on the palate first but filled out considerably in time, lovely, loaded with tapenade, leather, dry and powerful, very black olive, meaty. This improved considerably the longer it was open. A terrific bottle of 1981, 96+ and improving. This may well be my favorite vintage of Beau except for perhaps the 1990.\\n', '\\n']\n",
        "['wine/name: 1995 Ch&#226;teau Pichon-Longueville Baron\\n', 'wine/wineId: 3495\\n', 'wine/variant: Red Bordeaux Blend\\n', 'wine/year: 1995\\n', 'review/points: 93\\n', 'review/time: 1063299600\\n', 'review/userId: 1\\n', 'review/userName: Eric\\n', 'review/text: A remarkably floral nose with violet and chambord. On the palate this is super sweet and pure with a long, somewhat searing finish. My notes are very terse, but this was a lovely wine.\\n', '\\n']\n",
        "['wine/name: 2001 Thierry Allemand Cornas Reynard\\n', 'wine/wineId: 40451\\n', 'wine/variant: Syrah\\n', 'wine/year: 2001\\n', 'review/points: 92\\n', 'review/time: 1195948800\\n', 'review/userId: 1\\n', 'review/userName: Eric\\n', 'review/text: Fantastic wine! Blackberry, smoke, olive, stem, floral notes and bit of tar. This is one expressive nose for a young wine. Saturated palate. Juicy with black cherry notes playing with tar. Quite acidic and fresh. Very young. Terrific character on this wine. Surprisingly polished for a Cornas.\\n', '\\n']\n",
        "['wine/name: 2001 Ch&#226;teau Pavie Decesse\\n', 'wine/wineId: 26767\\n', 'wine/variant: Red Bordeaux Blend\\n', 'wine/year: 2001\\n', 'review/points: N/A\\n', 'review/time: 1344124800\\n', 'review/userId: 1\\n', 'review/userName: Eric\\n', 'review/text: Perfect cork. Perfect fill. Somewhat alluring with chocolate and plum, but this is marked by definite and troubling notes of raisin and prune. My last bottle and glad to see it go with 2 of four bottles that were deeply troubled and overripe.\\n', '\\n']\n",
        "['wine/name: 2003 Clos des Papes Ch&#226;teauneuf-du-Pape\\n', 'wine/wineId: 31665\\n', 'wine/variant: Red Rhone Blend\\n', 'wine/year: 2003\\n', 'review/points: N/A\\n', 'review/time: 1123718400\\n', 'review/userId: 1\\n', 'review/userName: Eric\\n', 'review/text: OMFG, this wine just does not quit. I need to stop with this already (my third bottle in a week, hoohah!!!). Raspberry jam and some heat moving to white pepper, deeply tannic, wow, what structure! The extraction, intensity and depth relative to the 2001 are just dramatically deeper. Wow!\\n', '\\n']\n",
        "['wine/name: 1990 Krug Champagne Brut\\n', 'wine/wineId: 16892\\n', 'wine/variant: Champagne Blend\\n', 'wine/year: 1990\\n', 'review/points: 96\\n', 'review/time: 1134172800\\n', 'review/userId: 1\\n', 'review/userName: Eric\\n', 'review/text: Much more yeasty, very Krug-like (guessed blind but sort of obvious), some interesting notes of mushroom dancing in the background. The initial palate impression was clean, lacy and precise. However, as I kept revisiting this what struck me was a unique lush and creamy textural element, along with signature flavors of toasted brioche and toasted almond. This sipper really grows on you the more you taste it. For current drinking pleasure this blows the 1996 Dom away.\\n', '\\n']\n",
        "['wine/name: 2002 Weingut Hirsch Gr&#252;ner Veltliner Kammern\\n', 'wine/wineId: 17478\\n', 'wine/variant: Gr&#252;ner Veltliner\\n', 'wine/year: 2002\\n', 'review/points: 92\\n', 'review/time: 1082851200\\n', 'review/userId: 1\\n', 'review/userName: Eric\\n', 'review/text: This shows a very ripe nose with chalky notes. The palate shows lemon, stone and unreal acidity. This is totally dry and focused like a laser. Thinking about it provokes a Pavlovian reaction, as this one was that mouthwatering. Very different from the other wines. In fact, if the tasting had been totally blind I would have guessed Chablis in a heartbeat!\\n', '\\n']\n",
        "['wine/name: 1999 Quilceda Creek Cabernet Sauvignon\\n', 'wine/wineId: 372\\n', 'wine/variant: Cabernet Sauvignon\\n', 'wine/year: 1999\\n', 'review/points: 95\\n', 'review/time: 1246060800\\n', 'review/userId: 1\\n', 'review/userName: Eric\\n', 'review/text: Nice showing. Decanted for 2 hours. Smoke, berries, and violet on the nose. The palate is firm, still quite young, loaded with gorgeous waves of black fruit and nice acidity. The hallmark characteristic though is the stunningly supple texture, silky tannins, plush but not overripe a lithe and graceful and unique expression of Cabernet that always bring a smile. World class.\\n', '\\n']\n",
        "['wine/name: 1982 Ch&#226;teau Palmer\\n', 'wine/wineId: 8523\\n', 'wine/variant: Red Bordeaux Blend\\n', 'wine/year: 1982\\n', 'review/points: N/A\\n', 'review/time: 1150761600\\n', 'review/userId: 1\\n', 'review/userName: Eric\\n', 'review/text: Served from magnum. Fairly mute and a bit musky. Big, round, black fruit, with some tobacco. Pleasant but not at the level of many other vintages of Palmer.\\n', '\\n']\n",
        "['wine/name: 1991 E. Guigal C&#244;te-R&#244;tie La Turque\\n', 'wine/wineId: 13162\\n', 'wine/variant: Syrah\\n', 'wine/year: 1991\\n', 'review/points: N/A\\n', 'review/time: 1171670400\\n', 'review/userId: 1\\n', 'review/userName: Eric\\n', 'review/text: OMFG, this is off the charts. Smoke, gunpowder, a sexy beast of a wine that drinks incredibly well.\\n', '\\n']\n"
       ]
      }
     ],
     "prompt_number": 319
    },
    {
     "cell_type": "code",
     "collapsed": false,
     "input": [
      "f=open(\"../cellarTracker.txt\") "
     ],
     "language": "python",
     "metadata": {},
     "outputs": [],
     "prompt_number": 314
    },
    {
     "cell_type": "heading",
     "level": 1,
     "metadata": {},
     "source": []
    },
    {
     "cell_type": "code",
     "collapsed": false,
     "input": [
      "h = [h for h in head if len(h)>3]"
     ],
     "language": "python",
     "metadata": {},
     "outputs": [],
     "prompt_number": 277
    },
    {
     "cell_type": "code",
     "collapsed": false,
     "input": [
      "head"
     ],
     "language": "python",
     "metadata": {},
     "outputs": [
      {
       "metadata": {},
       "output_type": "pyout",
       "prompt_number": 316,
       "text": [
        "['wine/name: 1995 Ch&#226;teau Pichon-Longueville Baron\\n',\n",
        " 'wine/wineId: 3495\\n',\n",
        " 'wine/variant: Red Bordeaux Blend\\n',\n",
        " 'wine/year: 1995\\n',\n",
        " 'review/points: 93\\n',\n",
        " 'review/time: 1063299600\\n',\n",
        " 'review/userId: 1\\n',\n",
        " 'review/userName: Eric\\n',\n",
        " 'review/text: A remarkably floral nose with violet and chambord. On the palate this is super sweet and pure with a long, somewhat searing finish. My notes are very terse, but this was a lovely wine.\\n',\n",
        " '\\n']"
       ]
      }
     ],
     "prompt_number": 316
    },
    {
     "cell_type": "code",
     "collapsed": false,
     "input": [
      "f.close()"
     ],
     "language": "python",
     "metadata": {},
     "outputs": [],
     "prompt_number": 313
    },
    {
     "cell_type": "code",
     "collapsed": false,
     "input": [
      "range(0,100,10)"
     ],
     "language": "python",
     "metadata": {},
     "outputs": [
      {
       "metadata": {},
       "output_type": "pyout",
       "prompt_number": 318,
       "text": [
        "[0, 10, 20, 30, 40, 50, 60, 70, 80, 90]"
       ]
      }
     ],
     "prompt_number": 318
    },
    {
     "cell_type": "code",
     "collapsed": false,
     "input": [],
     "language": "python",
     "metadata": {},
     "outputs": []
    }
   ],
   "metadata": {}
  }
 ]
}