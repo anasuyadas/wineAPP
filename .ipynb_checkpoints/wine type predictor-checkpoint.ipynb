{
 "metadata": {
  "name": "",
  "signature": "sha256:f9dae364d445aa98bbe29ca552060bc15329787dcdc5eb2533bd8618705b5be8"
 },
 "nbformat": 3,
 "nbformat_minor": 0,
 "worksheets": [
  {
   "cells": [
    {
     "cell_type": "code",
     "collapsed": false,
     "input": [
      "import nltk\n",
      "\n",
      "import pandas as pd\n",
      "import matplotlib.pyplot as plt\n",
      "from pandas import DataFrame,Series\n",
      "import numpy as np\n",
      "import random\n",
      "\n",
      "import re\n",
      "from nltk.corpus import stopwords"
     ],
     "language": "python",
     "metadata": {},
     "outputs": [],
     "prompt_number": 2
    },
    {
     "cell_type": "code",
     "collapsed": false,
     "input": [],
     "language": "python",
     "metadata": {},
     "outputs": [],
     "prompt_number": 12
    },
    {
     "cell_type": "code",
     "collapsed": false,
     "input": [
      "allReview = pd.read_csv(\"RSreviews2.csv\",index_col=0, header=None)"
     ],
     "language": "python",
     "metadata": {},
     "outputs": [],
     "prompt_number": 30
    },
    {
     "cell_type": "code",
     "collapsed": false,
     "input": [
      "allReview[1][1]"
     ],
     "language": "python",
     "metadata": {},
     "outputs": [
      {
       "metadata": {},
       "output_type": "pyout",
       "prompt_number": 38,
       "text": [
        "' [EDIT: Check out the review of the latest vintage!]  Bulk Buy!     A Savory, Succulent, and Stunningly Good Bulk Buy!  100% Syrah from Central Coast of California.  SRP of $16 and available for as low as $14. Sample received courtesy Andrew Murray Vineyards for review purposes.  From the winemaker: \"Starting in early 1999, I scoured the Central Coast for soils and climates that I thought would best suit this immensely drinkable wine and built relationships with growers that are paying dividends today with constantly improved harvests. I wanted sun-drenched, rocky, well-drained, low-vigor soils. I found several exciting vineyards in the Santa Ynez Valley and up in the Paso Robles area. I am so excited about this wine, that I named it \\xe2\\x80\\x9cTous les Jours\\xe2\\x80\\x9d (or \\xe2\\x80\\x9cEveryday\\xe2\\x80\\x9d to us Americans) to signify the immense drinkability of the wine. We also priced the wine with this in mind as well. We designed this wine from the beginning to be an absolutely delicious bottle of Syrah, at an affordable price.  14.5% Alcohol\"This is the third vintage of the Tous Les Jours that Ive sampled and it just keeps getting better. The 2008 vintage was also a Bulk Buy and sat atop the Top 10 list for many months. In fact, Ive been extremely impressed with every wine Ive sampled from Andrew Murray Vineyards, which puts them on the very short list of my very favorite wineries. This wine also represents a first for this site, but youll have to read on to find out why...  The 2009 Andrew Murray Vineyards Tous Les Jours Syrah begins with a beautiful bouquet of ripe plum, blackberry, blueberry, a little pepper and spice, and perhaps just a touch of violet. The wine tastes fantastic with luscious and rich fruit (dark berries) plus awesome peppery spice. The Tous Les Jours has great texture, great flavor, great mouthfeel...Im not sure what more I can say, except that this is a perfect 10 -- it is really that good. The finish is long and delicious; the pepper goes on and on. And to top it all off, the wine is just as good on day 2.   This is the first wine Ive reviewed to get a perfect 10 on my Taste rating. In fact, I was getting worried that I needed to redo my scoring and move everything up one point since the site is now over one year old and I still hadnt rated anything over a 9! Not anymore. This means, quite literally, that this wine is in a class all by itself. And even better, Andrew Murray Vineyards is currently running a free shipping offer through 4/30 on purchases of 6 bottles or more in their store. Since shipping is usually a deal killer when ordering wine online this is a fabulous deal. Do like I did after tasting this wine and order a whole case and youll save an extra 10% as well. Cheers!  See a listing of local retailers selling this wine here. Taste Rating: 10 \\xc2\\xa0\\xc2\\xa0 \\xc2\\xa0 \\xc2\\xa0\\xc2\\xa0 \\xc2\\xa0 \\xc2\\xa0\\xc2\\xa0 Cost Rating: 6Overall Rating: 9.'"
       ]
      }
     ],
     "prompt_number": 38
    },
    {
     "cell_type": "code",
     "collapsed": false,
     "input": [
      "stops = set(stopwords.words('english'))"
     ],
     "language": "python",
     "metadata": {},
     "outputs": [],
     "prompt_number": 13
    },
    {
     "cell_type": "code",
     "collapsed": false,
     "input": [
      "noStopLine=[]\n",
      "reviewNoStops=[]\n",
      "for line in allReview[1]:\n",
      "    for w in line.split():\n",
      "        if w.lower() not in stops:\n",
      "            noStopLine.append(w)\n",
      "    reviewNoStops.append( noStopLine)"
     ],
     "language": "python",
     "metadata": {},
     "outputs": [],
     "prompt_number": 39
    },
    {
     "cell_type": "code",
     "collapsed": false,
     "input": [
      "reviewNoStops[0]"
     ],
     "language": "python",
     "metadata": {},
     "outputs": []
    },
    {
     "cell_type": "code",
     "collapsed": false,
     "input": [],
     "language": "python",
     "metadata": {},
     "outputs": []
    }
   ],
   "metadata": {}
  }
 ]
}