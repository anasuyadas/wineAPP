{
 "metadata": {
  "name": "",
  "signature": "sha256:7ce94d885ed07d5fc606f873cfa395b944f2a3bd6a0dcbce49b89dc3fc94166e"
 },
 "nbformat": 3,
 "nbformat_minor": 0,
 "worksheets": [
  {
   "cells": [
    {
     "cell_type": "code",
     "collapsed": false,
     "input": [
      "import os\n",
      "import re\n",
      "\n",
      "import pandas as pd\n",
      "from pandas import DataFrame,Series\n",
      "import pandas.io.sql \n",
      "\n",
      "import numpy as np\n",
      "import random\n",
      "\n",
      "from bs4 import BeautifulSoup\n",
      "import requests\n",
      "\n",
      "import html5lib\n",
      "import unicodedata\n",
      "\n",
      "import pymysql as mdb"
     ],
     "language": "python",
     "metadata": {},
     "outputs": [],
     "prompt_number": 330
    },
    {
     "cell_type": "code",
     "collapsed": false,
     "input": [
      "url=\"https://www.cellartracker.com/list.asp?iUserOverride=0&Table=Notes&Page={0}#selected%3DW90384_1_K2c2c364ccb40feb61666c2aabbb0283f\""
     ],
     "language": "python",
     "metadata": {},
     "outputs": [],
     "prompt_number": 249
    },
    {
     "cell_type": "code",
     "collapsed": false,
     "input": [
      "def getCellarData(pageNum):\n",
      "    url=\"https://www.cellartracker.com/list.asp?iUserOverride=0&Table=Notes&Page={0}#selected%3DW90384_1_K2c2c364ccb40feb61666c2aabbb0283f\".format(pageNum)\n",
      "    r= requests.get(url,auth=('anasuyadas','cinnamon67'))\n",
      "    soup=BeautifulSoup(r.text,'html5lib')\n",
      "    noteTable=twentyUnder.find('table')\n",
      "    return noteTable"
     ],
     "language": "python",
     "metadata": {},
     "outputs": [],
     "prompt_number": 254
    },
    {
     "cell_type": "code",
     "collapsed": false,
     "input": [
      "def getTableRow(noteTable):\n",
      "    # takes in a soup table extracted from the cellar trackerpage\n",
      "    notes=noteTable.find_all(\"tr\")\n",
      "    \n",
      "    rows=pd.DataFrame()\n",
      "    for line in notes:\n",
      "        firstRow=line.find_all('td')\n",
      "        row=[]\n",
      "        for y in firstRow:\n",
      "            row.append(str(y))\n",
      "        rows=rows.append([row])\n",
      "        \n",
      "    rows.columns=['TDone','TDtwo','TDtre']\n",
      "    return rows.dropna()"
     ],
     "language": "python",
     "metadata": {},
     "outputs": [],
     "prompt_number": 350
    },
    {
     "cell_type": "code",
     "collapsed": false,
     "input": [
      "def addTableRowstoDB(row):\n",
      "    # takes in a pandas data frame and a list of td elements\n",
      "    \n",
      "    con = mdb.connect('localhost', 'root', 'cortex', 'cellarTracker') #host, user, password, #database\n",
      "\n",
      "    with con:\n",
      "        cur = con.cursor()\n",
      "        rows.to_sql(con=con,name='cellTrackNotes', flavor='mysql',if_exists='append', index=False)\n",
      "        #cur.execute(\"INSERT INTO cellTrackNotes(TDone,TDtwo,TDtre) VALUES(%s,%s,%s)\", (row))\n",
      "\n",
      "    #(con=con,name='cellTrackNotes', flavor='mysql',if_exists='append')\n"
     ],
     "language": "python",
     "metadata": {},
     "outputs": [],
     "prompt_number": 341
    },
    {
     "cell_type": "code",
     "collapsed": false,
     "input": [
      "dataTable=pd.DataFrame()\n",
      "\n",
      "for page in range(1,5):\n",
      "    noteTable=getCellarData(page)\n",
      "    "
     ],
     "language": "python",
     "metadata": {},
     "outputs": [],
     "prompt_number": 78
    },
    {
     "cell_type": "code",
     "collapsed": false,
     "input": [
      "con = mdb.connect('localhost', 'root', 'cortex', 'cellarTracker') #host, user, password, #database\n",
      "cur = con.cursor()\n",
      "cur.execute(\"DROP TABLE IF EXISTS cellTrackNotes\")\n",
      "cur.execute(\"CREATE TABLE cellTrackNotes(TDone MEDIUMTEXT,TDtwo MEDIUMTEXT,TDtre MEDIUMTEXT)\")"
     ],
     "language": "python",
     "metadata": {},
     "outputs": [
      {
       "metadata": {},
       "output_type": "pyout",
       "prompt_number": 358,
       "text": [
        "0"
       ]
      }
     ],
     "prompt_number": 358
    },
    {
     "cell_type": "code",
     "collapsed": false,
     "input": [
      "for page in range(0,201):\n",
      "    noteTable=getCellarData(page)\n",
      "    rows=getTableRow(noteTable)\n",
      "    addTableRowstoDB(rows)"
     ],
     "language": "python",
     "metadata": {},
     "outputs": [],
     "prompt_number": 359
    },
    {
     "cell_type": "code",
     "collapsed": false,
     "input": [],
     "language": "python",
     "metadata": {},
     "outputs": [],
     "prompt_number": 351
    },
    {
     "cell_type": "code",
     "collapsed": false,
     "input": [],
     "language": "python",
     "metadata": {},
     "outputs": [],
     "prompt_number": 352
    },
    {
     "cell_type": "code",
     "collapsed": false,
     "input": [],
     "language": "python",
     "metadata": {},
     "outputs": [],
     "prompt_number": 343
    },
    {
     "cell_type": "code",
     "collapsed": false,
     "input": [
      "with con:\n",
      "   cur = con.cursor()\n",
      "   cur.execute(\"SELECT * FROM cellTrackNotes\")\n",
      "   rows = cur.fetchall()\n",
      "   print len(rows)"
     ],
     "language": "python",
     "metadata": {},
     "outputs": [
      {
       "output_type": "stream",
       "stream": "stdout",
       "text": [
        "5025\n"
       ]
      }
     ],
     "prompt_number": 360
    },
    {
     "cell_type": "code",
     "collapsed": false,
     "input": [
      "25*201"
     ],
     "language": "python",
     "metadata": {},
     "outputs": [
      {
       "metadata": {},
       "output_type": "pyout",
       "prompt_number": 361,
       "text": [
        "5025"
       ]
      }
     ],
     "prompt_number": 361
    },
    {
     "cell_type": "code",
     "collapsed": false,
     "input": [
      "y=[unicodedata.normalize('NFD', y).encode('ascii', 'ignore') for y in x]"
     ],
     "language": "python",
     "metadata": {},
     "outputs": [],
     "prompt_number": 164
    },
    {
     "cell_type": "code",
     "collapsed": false,
     "input": [
      "y[1].find_all('span')"
     ],
     "language": "python",
     "metadata": {},
     "outputs": [
      {
       "metadata": {},
       "output_type": "pyout",
       "prompt_number": 194,
       "text": [
        "[<span class=\"el nam\"><h3>2006 Valdicava Brunello di Montalcino</h3></span>,\n",
        " <span class=\"el var\">Sangiovese <a class=\"more\" href=\"wine.asp?iWine=854047\">more</a></span>]"
       ]
      }
     ],
     "prompt_number": 194
    },
    {
     "cell_type": "code",
     "collapsed": false,
     "input": [
      "z=pd.DataFrame()"
     ],
     "language": "python",
     "metadata": {},
     "outputs": [],
     "prompt_number": 235
    },
    {
     "cell_type": "code",
     "collapsed": false,
     "input": [
      "z=z.append([x])"
     ],
     "language": "python",
     "metadata": {},
     "outputs": [],
     "prompt_number": 239
    },
    {
     "cell_type": "code",
     "collapsed": false,
     "input": [
      "z"
     ],
     "language": "python",
     "metadata": {},
     "outputs": [
      {
       "html": [
        "<div style=\"max-height:1000px;max-width:1500px;overflow:auto;\">\n",
        "<table border=\"1\" class=\"dataframe\">\n",
        "  <thead>\n",
        "    <tr style=\"text-align: right;\">\n",
        "      <th></th>\n",
        "      <th>0</th>\n",
        "      <th>1</th>\n",
        "      <th>2</th>\n",
        "    </tr>\n",
        "  </thead>\n",
        "  <tbody>\n",
        "    <tr>\n",
        "      <th>0</th>\n",
        "      <td> &lt;td class=\"type first\"&gt;\\n&lt;a class=\"hovercard i...</td>\n",
        "      <td> &lt;td class=\"name\"&gt;\\n&lt;span class=\"el nam\"&gt;&lt;h3&gt;20...</td>\n",
        "      <td> &lt;td class=\"score\"&gt;\\n&lt;div class=\"dropdown hover...</td>\n",
        "    </tr>\n",
        "    <tr>\n",
        "      <th>0</th>\n",
        "      <td> &lt;td class=\"type first\"&gt;\\n&lt;a class=\"hovercard i...</td>\n",
        "      <td> &lt;td class=\"name\"&gt;\\n&lt;span class=\"el nam\"&gt;&lt;h3&gt;20...</td>\n",
        "      <td> &lt;td class=\"score\"&gt;\\n&lt;div class=\"dropdown hover...</td>\n",
        "    </tr>\n",
        "  </tbody>\n",
        "</table>\n",
        "</div>"
       ],
       "metadata": {},
       "output_type": "pyout",
       "prompt_number": 241,
       "text": [
        "                                                   0  \\\n",
        "0  <td class=\"type first\">\\n<a class=\"hovercard i...   \n",
        "0  <td class=\"type first\">\\n<a class=\"hovercard i...   \n",
        "\n",
        "                                                   1  \\\n",
        "0  <td class=\"name\">\\n<span class=\"el nam\"><h3>20...   \n",
        "0  <td class=\"name\">\\n<span class=\"el nam\"><h3>20...   \n",
        "\n",
        "                                                   2  \n",
        "0  <td class=\"score\">\\n<div class=\"dropdown hover...  \n",
        "0  <td class=\"score\">\\n<div class=\"dropdown hover...  "
       ]
      }
     ],
     "prompt_number": 241
    },
    {
     "cell_type": "code",
     "collapsed": false,
     "input": [
      "firstRow[1]"
     ],
     "language": "python",
     "metadata": {},
     "outputs": [
      {
       "metadata": {},
       "output_type": "pyout",
       "prompt_number": 219,
       "text": [
        "<td class=\"name\">\n",
        "<span class=\"el nam\"><h3>2006 Valdicava Brunello di Montalcino</h3></span>\n",
        "<span class=\"el var\">Sangiovese <a class=\"more\" href=\"wine.asp?iWine=854047\">more</a></span>\n",
        "</td>"
       ]
      }
     ],
     "prompt_number": 219
    },
    {
     "cell_type": "code",
     "collapsed": true,
     "input": [
      "len(x[0])"
     ],
     "language": "python",
     "metadata": {},
     "outputs": [
      {
       "metadata": {},
       "output_type": "pyout",
       "prompt_number": 246,
       "text": [
        "199"
       ]
      }
     ],
     "prompt_number": 246
    },
    {
     "cell_type": "code",
     "collapsed": false,
     "input": [
      "from thready import threaded"
     ],
     "language": "python",
     "metadata": {},
     "outputs": [
      {
       "ename": "ImportError",
       "evalue": "No module named thready",
       "output_type": "pyerr",
       "traceback": [
        "\u001b[0;31m---------------------------------------------------------------------------\u001b[0m\n\u001b[0;31mImportError\u001b[0m                               Traceback (most recent call last)",
        "\u001b[0;32m<ipython-input-282-552b26308b0f>\u001b[0m in \u001b[0;36m<module>\u001b[0;34m()\u001b[0m\n\u001b[0;32m----> 1\u001b[0;31m \u001b[0;32mfrom\u001b[0m \u001b[0mthready\u001b[0m \u001b[0;32mimport\u001b[0m \u001b[0mthreaded\u001b[0m\u001b[0;34m\u001b[0m\u001b[0m\n\u001b[0m",
        "\u001b[0;31mImportError\u001b[0m: No module named thready"
       ]
      }
     ],
     "prompt_number": 282
    },
    {
     "cell_type": "code",
     "collapsed": false,
     "input": [],
     "language": "python",
     "metadata": {},
     "outputs": []
    }
   ],
   "metadata": {}
  }
 ]
}