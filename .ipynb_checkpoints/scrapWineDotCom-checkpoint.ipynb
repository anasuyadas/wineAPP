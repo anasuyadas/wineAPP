{
 "metadata": {
  "name": "",
  "signature": "sha256:a7a519e40ac525c96021a12d0507045157ee6015397ad91b7572dd813ca8b560"
 },
 "nbformat": 3,
 "nbformat_minor": 0,
 "worksheets": [
  {
   "cells": [
    {
     "cell_type": "code",
     "collapsed": false,
     "input": [],
     "language": "python",
     "metadata": {},
     "outputs": []
    },
    {
     "cell_type": "code",
     "collapsed": false,
     "input": [
      "import os\n",
      "import re\n",
      "import urllib2\n",
      "from zipfile import ZipFile\n",
      "import csv\n",
      "\n",
      "\n",
      "import pandas as pd\n",
      "import matplotlib.pyplot as plt\n",
      "from pandas import DataFrame,Series\n",
      "import numpy as np\n",
      "import random\n",
      "\n",
      "import pymysql\n",
      "\n",
      "import bs4\n",
      "import requests\n",
      "import html5lib"
     ],
     "language": "python",
     "metadata": {},
     "outputs": [],
     "prompt_number": 1
    },
    {
     "cell_type": "code",
     "collapsed": false,
     "input": [
      "apiKey=\"560910fcb5fb119edfc1eaabd94cb90a\"\n",
      "categoryMapURL= 'http://services.wine.com/api/beta2/service.svc/JSON/catalog??filter=categories(490+124)&offset=0&size=5&apikey={0}'.format(apiKey)\n",
      "#/catalog?filter=categories(490+124)&offset=10&size=5&apikey=key\n",
      "#http://services.wine.com/api/beta/service.svc/catalog?filter=categories(490+124)&offset=10&size=5&apikey=key"
     ],
     "language": "python",
     "metadata": {},
     "outputs": [],
     "prompt_number": 17
    },
    {
     "cell_type": "code",
     "collapsed": false,
     "input": [
      "categoryMap=requests.get(categoryMapURL)"
     ],
     "language": "python",
     "metadata": {},
     "outputs": [],
     "prompt_number": 18
    },
    {
     "cell_type": "code",
     "collapsed": false,
     "input": [
      "categoryMapSoup=BeautifulSoup(categoryMap.text)"
     ],
     "language": "python",
     "metadata": {},
     "outputs": [],
     "prompt_number": 19
    },
    {
     "cell_type": "code",
     "collapsed": false,
     "input": [
      "x=categoryMap.json()"
     ],
     "language": "python",
     "metadata": {},
     "outputs": [],
     "prompt_number": 25
    },
    {
     "cell_type": "code",
     "collapsed": false,
     "input": [
      "url=\"http://www.wine.com/v6/wineshop/list.aspx?N=7155+13&pagelength=3000\""
     ],
     "language": "python",
     "metadata": {},
     "outputs": [],
     "prompt_number": 2
    },
    {
     "cell_type": "code",
     "collapsed": false,
     "input": [
      "underTwentyWines=requests.get(url)\n",
      "#html = urllib2.urlopen(\"file:///insightProject/wine recommender/winesUnder3000.html\")"
     ],
     "language": "python",
     "metadata": {},
     "outputs": [],
     "prompt_number": 3
    },
    {
     "cell_type": "code",
     "collapsed": false,
     "input": [
      "underTwentyWinesSoup=BeautifulSoup(html,'html5lib')"
     ],
     "language": "python",
     "metadata": {},
     "outputs": [],
     "prompt_number": 116
    },
    {
     "cell_type": "code",
     "collapsed": false,
     "input": [
      "wineLinkList=[]\n",
      "mainSection=underTwentyWinesSoup.find_all('li')"
     ],
     "language": "python",
     "metadata": {},
     "outputs": [],
     "prompt_number": 117
    },
    {
     "cell_type": "code",
     "collapsed": false,
     "input": [
      "html?"
     ],
     "language": "python",
     "metadata": {},
     "outputs": [],
     "prompt_number": 121
    },
    {
     "cell_type": "code",
     "collapsed": false,
     "input": [
      "wineLinkList\n",
      "allLinks=mainSection.find_all('a',attrs={'class':'listProductName'})\n",
      "for item in mainSection.find_all('a',attrs={'class':'listProductName'}):#('div',attrs={'class': '.productName'}):\n",
      "    #for link in item.find('a',attrs={'class':'listProductName'}):\n",
      "        l=item.get('href')\n",
      "        wineLinkList.append(l)"
     ],
     "language": "python",
     "metadata": {},
     "outputs": [],
     "prompt_number": 30
    },
    {
     "cell_type": "code",
     "collapsed": false,
     "input": [
      "print len(mainSection.find_all('a',attrs={'class':'listProductName'}))"
     ],
     "language": "python",
     "metadata": {},
     "outputs": [
      {
       "output_type": "stream",
       "stream": "stdout",
       "text": [
        "4\n"
       ]
      }
     ],
     "prompt_number": 34
    },
    {
     "cell_type": "code",
     "collapsed": false,
     "input": [],
     "language": "python",
     "metadata": {},
     "outputs": [],
     "prompt_number": 31
    },
    {
     "cell_type": "code",
     "collapsed": false,
     "input": [],
     "language": "python",
     "metadata": {},
     "outputs": []
    }
   ],
   "metadata": {}
  }
 ]
}